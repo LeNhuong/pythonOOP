{
 "cells": [
  {
   "cell_type": "code",
   "execution_count": 1,
   "id": "a1745e19",
   "metadata": {},
   "outputs": [],
   "source": [
    "class Sudent:\n",
    "    def __init__(self, name, school):\n",
    "        self.name = name\n",
    "        self.school = school\n",
    "        self.marks = []\n",
    "    def average(self):\n",
    "        return sum(self.marks) / len(self.marks)"
   ]
  },
  {
   "cell_type": "code",
   "execution_count": 7,
   "id": "7b58bacd",
   "metadata": {},
   "outputs": [
    {
     "name": "stdout",
     "output_type": "stream",
     "text": [
      "77.5\n"
     ]
    }
   ],
   "source": [
    "rolf = Sudent('Nhuong', 'MIT')\n",
    "rolf.marks.append(77)\n",
    "rolf.marks.append(78)\n",
    "print(rolf.average())\n",
    "\n"
   ]
  },
  {
   "cell_type": "code",
   "execution_count": 16,
   "id": "b2e04c60",
   "metadata": {},
   "outputs": [
    {
     "name": "stdout",
     "output_type": "stream",
     "text": [
      "Foo\n"
     ]
    }
   ],
   "source": [
    "class Foo:\n",
    "    @classmethod\n",
    "    def hi(cls):\n",
    "        print(cls.__name__)\n",
    "my_object = Foo()\n",
    "my_object.hi()"
   ]
  },
  {
   "cell_type": "code",
   "execution_count": 15,
   "id": "025dfb83",
   "metadata": {},
   "outputs": [
    {
     "name": "stdout",
     "output_type": "stream",
     "text": [
      "Hello, I don't take parmeters \n"
     ]
    }
   ],
   "source": [
    "class Bar:\n",
    "    @staticmethod\n",
    "    def hi():\n",
    "        print(\"Hello, I don\\'t take parmeters \")\n",
    "another_object = Bar()\n",
    "another_object.hi()"
   ]
  },
  {
   "cell_type": "code",
   "execution_count": 33,
   "id": "71793ec7",
   "metadata": {},
   "outputs": [
    {
     "name": "stdout",
     "output_type": "stream",
     "text": [
      "<FixedFload 20.36>\n"
     ]
    }
   ],
   "source": [
    "class FixedFloat:\n",
    "    def __init__(self, amount):\n",
    "        self.amount = amount\n",
    "        \n",
    "    def __repr__(self):\n",
    "        return f'<FixedFload {self.amount:.2f}>'\n",
    "    \n",
    "    @classmethod\n",
    "    def from_sum(cls, value1, value2):\n",
    "        return cls(value1 + value2)\n",
    "    \n",
    "    \n",
    "# number = FixedFloat(18.856425)\n",
    "new_number = FixedFloat.from_sum(19.575, 0.789)\n",
    "\n",
    "print(new_number)\n",
    "\n",
    "# print(number)"
   ]
  },
  {
   "cell_type": "code",
   "execution_count": 34,
   "id": "a5f3bbf1",
   "metadata": {},
   "outputs": [
    {
     "name": "stdout",
     "output_type": "stream",
     "text": [
      "<Euro euro26.01>\n"
     ]
    }
   ],
   "source": [
    "class Euro(FixedFloat):\n",
    "    def __init__(self, amount):\n",
    "        super().__init__(amount)\n",
    "        self.symbol = \"euro\"\n",
    "    def __repr__(self):\n",
    "        return f'<Euro {self.symbol}{self.amount:.2f}>'\n",
    "# money = Euro(18.759)\n",
    "money = Euro.from_sum(16.789, 9.2235)\n",
    "\n",
    "print(money)\n",
    "    "
   ]
  },
  {
   "cell_type": "code",
   "execution_count": 1,
   "id": "35e3eea5",
   "metadata": {},
   "outputs": [
    {
     "name": "stdout",
     "output_type": "stream",
     "text": [
      "86.75\n"
     ]
    }
   ],
   "source": [
    "my_student = {\n",
    "    'name': 'Nhuong',\n",
    "    'grades': [70, 88, 90, 99]\n",
    "}\n",
    "\n",
    "def averege_grade(student):\n",
    "    return sum(student['grades']) / len(student['grades'])\n",
    "print(averege_grade(my_student))"
   ]
  },
  {
   "cell_type": "code",
   "execution_count": 5,
   "id": "725dcd31",
   "metadata": {},
   "outputs": [
    {
     "name": "stdout",
     "output_type": "stream",
     "text": [
      "Nhuong\n",
      "[77, 88, 90, 99]\n",
      "88.5\n",
      "88.5\n",
      "88.5\n"
     ]
    }
   ],
   "source": [
    "class Student:\n",
    "    def __init__(self, new_name, new_grades):\n",
    "        self.name = new_name\n",
    "        self.grades = new_grades\n",
    "    def average_grades(self, name):\n",
    "        return sum(self.grades) / len(self.grades)\n",
    "\n",
    "student_one = Student('Nhuong', [77, 88, 90, 99])\n",
    "student_two = Student('Beo', [70, 88, 90, 99])\n",
    "\n",
    "print(student_one.name)\n",
    "print(student_one.grades)\n",
    "\n",
    "print(student_one.average_grades('Nhuong1'))\n",
    "print(Student.average_grades(student_one, 'Nhuong1'))\n",
    "\n",
    "def average(student):\n",
    "    return sum(student.grades) / len(student.grades)\n",
    "print(average(student_one))\n"
   ]
  },
  {
   "cell_type": "code",
   "execution_count": 11,
   "id": "d1b44a81",
   "metadata": {},
   "outputs": [
    {
     "name": "stdout",
     "output_type": "stream",
     "text": [
      "<<Maval>> byNhuongLe\n"
     ]
    }
   ],
   "source": [
    "class Movie:\n",
    "    def __init__(self, new_name, new_director):\n",
    "        self.name = new_name\n",
    "        self.director = new_director\n",
    "        \n",
    "    def print_info(self):\n",
    "        print (f\"<<{self.name}>> by{self.director}\")\n",
    "        \n",
    "movie1 = Movie(\"Maval\", \"NhuongLe\")\n",
    "movie1.print_info()\n"
   ]
  },
  {
   "cell_type": "markdown",
   "id": "e3449372",
   "metadata": {},
   "source": [
    "## sum(), int(), str(), len(), "
   ]
  },
  {
   "cell_type": "code",
   "execution_count": 12,
   "id": "0b84929b",
   "metadata": {},
   "outputs": [],
   "source": [
    "def any(interable):\n",
    "    for element in interable:\n",
    "        if element:\n",
    "            return true\n",
    "    return false"
   ]
  },
  {
   "cell_type": "code",
   "execution_count": 14,
   "id": "f1a03523",
   "metadata": {},
   "outputs": [
    {
     "name": "stdout",
     "output_type": "stream",
     "text": [
      "The Matrix\n",
      "The Matrix\n"
     ]
    }
   ],
   "source": [
    "class Movie:\n",
    "    def __init__(self, name, year):\n",
    "        self.name = name\n",
    "        self.year = year\n",
    "        \n",
    "movie = Movie(\"The Matrix\", 1994)    \n",
    "print(movie.name)\n",
    "print(Movie(\"The Matrix\", 1994).name)\n",
    "    "
   ]
  },
  {
   "cell_type": "code",
   "execution_count": 39,
   "id": "e01b2354",
   "metadata": {},
   "outputs": [
    {
     "name": "stdout",
     "output_type": "stream",
     "text": [
      "<class 'list'>\n",
      "<class 'str'>\n",
      "2\n",
      "['Fiesta', 'Focus']\n",
      "Fiesta\n",
      "Garage with 2 cars\n",
      "Fiesta\n",
      "Focus\n"
     ]
    }
   ],
   "source": [
    "class Student:\n",
    "    def __init__(self, name):\n",
    "        self.name = name\n",
    "movie = ['Matrix', 'Finding Nemo']\n",
    "print(movie.__class__)\n",
    "print(\"hi\".__class__)\n",
    "print(len(movie))\n",
    "class Garage:\n",
    "    def __init__(self):\n",
    "        self.cars = []\n",
    "        \n",
    "    def __len__(self):\n",
    "        return len(self.cars)\n",
    "    \n",
    "    def __getitem__(self, i):\n",
    "        return self.cars[i]\n",
    "    \n",
    "#     def __repr__(self):\n",
    "#         return f'Garage with {self.cars} '\n",
    "    \n",
    "    def __repr__(self):\n",
    "        return f'Garage with {len(self)} cars'\n",
    "    \n",
    "ford = Garage()\n",
    "ford.cars.append('Fiesta')\n",
    "ford.cars.append('Focus')\n",
    "print(ford.cars)\n",
    "print(ford[0])\n",
    "print(ford)\n",
    "for car in ford:\n",
    "    print(car)"
   ]
  },
  {
   "cell_type": "code",
   "execution_count": 41,
   "id": "b4581a8f",
   "metadata": {},
   "outputs": [],
   "source": [
    "# We have a class called Club, and it is initialized like this (no need to change):\n",
    "class Club:\n",
    "    def __init__(self, name):\n",
    "        self.name = name\n",
    "        self.players = []\n",
    "\n",
    "    # optional\n",
    "    def __len__(self):\n",
    "        return len(self.players)\n",
    "\n",
    "    # define a method that allows us to access the i-th player in the club directly via indexing.\n",
    "    # for example, if some_club is an object of Club class,\n",
    "    # we can access the i-th player in some_club like this (you may assume i is always valid):\n",
    "    # some_club[i]\n",
    "    def __getitem__(self, i):\n",
    "        return self.players[i]\n",
    "\n",
    "    # define a method that returns a string representation of this object,\n",
    "    # which can be used to recreate this object.\n",
    "    # The return value should be in such format (beware of the spacing):\n",
    "    # Club {club_name}: {list_of_players}\n",
    "    # the club_name and list_of_players should be replaced by the according value of current object\n",
    "    def __repr__(self):\n",
    "        return f\"Club {self.name}: {self.players}\"\n",
    "\n",
    "    # define a method that returns a readable string representation of this object for the user.\n",
    "    # The return value should be in such format (beware of the spacing):\n",
    "    # Club {club_name} with {count_of_players} players\n",
    "    # the club_name and count_of_players should be replaced by the according value of current object\n",
    "    def __str__(self):\n",
    "        return f\"Club {self.name} with {len(self)} players\"\n",
    "\n",
    "# You only need to finish the method, we will take care of the object creation and call those methods for you!"
   ]
  },
  {
   "cell_type": "markdown",
   "id": "61eab1e1",
   "metadata": {},
   "source": [
    "## inheritance in python (kế thừa trong python)"
   ]
  },
  {
   "cell_type": "code",
   "execution_count": 8,
   "id": "00ac40de",
   "metadata": {},
   "outputs": [
    {
     "name": "stdout",
     "output_type": "stream",
     "text": [
      "15.5\n",
      "65.0\n",
      "201.5\n"
     ]
    }
   ],
   "source": [
    "class Student:\n",
    "    def __init__(self, name, school):\n",
    "        self.name = name\n",
    "        self.school = school\n",
    "        self.marks = []\n",
    "    def average(self):\n",
    "        return sum(self.marks) / len(self.marks)\n",
    "    \n",
    "class WorkingStudent(Student):\n",
    "    def __init__(self, name, school, salary):\n",
    "        super().__init__(name, school)\n",
    "        self.salary = salary\n",
    "    def weekly_salary(self):\n",
    "        return self.salary *13\n",
    "        \n",
    "        \n",
    "rolf = WorkingStudent('Rolf', 'MIT', 15.50)\n",
    "print(rolf.salary)\n",
    "rolf.marks.append(50)\n",
    "rolf.marks.append(80)\n",
    "print(rolf.average())\n",
    "print(rolf.weekly_salary())"
   ]
  },
  {
   "cell_type": "code",
   "execution_count": 10,
   "id": "a1a4eacb",
   "metadata": {},
   "outputs": [
    {
     "name": "stdout",
     "output_type": "stream",
     "text": [
      "201.5\n"
     ]
    }
   ],
   "source": [
    "class Student:\n",
    "    def __init__(self, name, school):\n",
    "        self.name = name\n",
    "        self.school = school\n",
    "        self.marks = []\n",
    "    def average(self):\n",
    "        return sum(self.marks) / len(self.marks)\n",
    "    \n",
    "class WorkingStudent(Student):\n",
    "    def __init__(self, name, school, salary):\n",
    "        super().__init__(name, school)\n",
    "        self.salary = salary\n",
    "    @property\n",
    "    def weekly_salary(self):\n",
    "        return self.salary *13\n",
    "    \n",
    "    \n",
    "rolf = WorkingStudent('Rolf', 'MIT', 15.50)\n",
    "    \n",
    "print(rolf.weekly_salary)"
   ]
  },
  {
   "cell_type": "code",
   "execution_count": 11,
   "id": "93c087e2",
   "metadata": {},
   "outputs": [
    {
     "name": "stdout",
     "output_type": "stream",
     "text": [
      "15.5\n",
      "65.0\n",
      "65.0\n"
     ]
    }
   ],
   "source": [
    "class Student:\n",
    "    def __init__(self, name, school):\n",
    "        self.name = name\n",
    "        self.school = school\n",
    "        self.marks = []\n",
    "    def average(self):\n",
    "        return sum(self.marks) / len(self.marks)\n",
    "    \n",
    "# class WorkingStudent(Student):\n",
    "#     def __init__(self, name, school, salary):\n",
    "#         super().__init__(name, school)\n",
    "#         self.salary = salary\n",
    "#     def weekly_salary(self):\n",
    "#         return self.salary *13\n",
    "\n",
    "rolf = WorkingStudent('Rolf', 'MIT', 15.50)\n",
    "print(rolf.salary)\n",
    "rolf.marks.append(50)\n",
    "rolf.marks.append(80)\n",
    "print(rolf.average())\n",
    "\n",
    "print(Student.average(rolf))\n"
   ]
  },
  {
   "cell_type": "code",
   "execution_count": 2,
   "id": "8cd97e03",
   "metadata": {},
   "outputs": [
    {
     "name": "stdout",
     "output_type": "stream",
     "text": [
      "Enter the movie title: akfwoif\n",
      "Enter the movie director: wkhfoiwef\n",
      "Enter the movie release year: 12312\n"
     ]
    }
   ],
   "source": [
    "MENU_PROMPT = \"\\nENTER 'a' to add movie, 'l' to see your movies, 'f' to find a movie by title , or 'q' to quit: \"\n",
    "movies = []\n",
    "\n",
    "title = input(\"Enter the movie title: \")\n",
    "director = input(\"Enter the movie director: \")\n",
    "year = input(\"Enter the movie release year: \")\n",
    "\n",
    "\n",
    "movies.append({\n",
    "    'title': title,\n",
    "    'director': director,\n",
    "    'year': year\n",
    "})\n",
    "\n",
    "\n",
    "selection = input(MENU_PROMPT)\n",
    "while selection != 'q':\n",
    "    if selection == 'a':\n",
    "        pass\n",
    "    elif selection == 'l':\n",
    "        pass\n",
    "    elif selection == 'q':\n",
    "        pass\n",
    "    else:\n",
    "        print('Unknow command. please try again.')\n",
    "    selection = input(MENU_PROMPT)\n"
   ]
  }
 ],
 "metadata": {
  "kernelspec": {
   "display_name": "Python 3 (ipykernel)",
   "language": "python",
   "name": "python3"
  },
  "language_info": {
   "codemirror_mode": {
    "name": "ipython",
    "version": 3
   },
   "file_extension": ".py",
   "mimetype": "text/x-python",
   "name": "python",
   "nbconvert_exporter": "python",
   "pygments_lexer": "ipython3",
   "version": "3.11.3"
  }
 },
 "nbformat": 4,
 "nbformat_minor": 5
}
