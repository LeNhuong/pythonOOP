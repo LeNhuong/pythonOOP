{
 "cells": [
  {
   "cell_type": "code",
   "execution_count": 1,
   "id": "82bd8d54",
   "metadata": {},
   "outputs": [],
   "source": [
    "class Sudent:\n",
    "    def __init__(self, name, school):\n",
    "        self.name = name\n",
    "        self.school = school\n",
    "        self.marks = []\n",
    "    def average(self):\n",
    "        return sum(self.marks) / len(self.marks)"
   ]
  },
  {
   "cell_type": "code",
   "execution_count": 4,
   "id": "5fe961b8",
   "metadata": {},
   "outputs": [
    {
     "name": "stdout",
     "output_type": "stream",
     "text": [
      "77.5\n"
     ]
    }
   ],
   "source": [
    "rolf = Sudent('Nhuong', 'MIT')\n",
    "rolf.marks.append(77)\n",
    "rolf.marks.append(78)\n",
    "print(rolf.average())"
   ]
  },
  {
   "cell_type": "raw",
   "id": "40dde82c",
   "metadata": {},
   "source": []
  }
 ],
 "metadata": {
  "kernelspec": {
   "display_name": "Python 3 (ipykernel)",
   "language": "python",
   "name": "python3"
  },
  "language_info": {
   "codemirror_mode": {
    "name": "ipython",
    "version": 3
   },
   "file_extension": ".py",
   "mimetype": "text/x-python",
   "name": "python",
   "nbconvert_exporter": "python",
   "pygments_lexer": "ipython3",
   "version": "3.11.3"
  }
 },
 "nbformat": 4,
 "nbformat_minor": 5
}
